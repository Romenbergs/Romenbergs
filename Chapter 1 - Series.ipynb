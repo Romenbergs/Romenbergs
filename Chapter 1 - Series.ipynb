{
 "cells": [
  {
   "cell_type": "markdown",
   "id": "2ac453b9",
   "metadata": {},
   "source": [
    "# Series Introduction"
   ]
  },
  {
   "cell_type": "code",
   "execution_count": 39,
   "id": "c5cb1d5f",
   "metadata": {},
   "outputs": [
    {
     "data": {
      "text/plain": [
       "'\\n\\n# Create a Series from data (sequence, dictionary or scalar)\\n\\npd.Series(  data=None, \\n            index=None,\\n            dtype=None,\\n            name=None, \\n            copy=False )\\n\\n\\n# Access index of series\\ns.index \\n\\n# Cast series to dtype. To ignore errors (and return original object) use errors=\\'ignore\\'\\ns.astype(dtype, errors=\"raise\")\\n\\n# Return values from s where boolean_array is True\\ns[boolean_array]\\n\\n# Determine if a categorical series is ordered\\ns.cat.ordered\\n\\n# Add categories (potentially ordered) to the series. new_categories must include all categories\\ns.cat.reorder_categories(new_categories, ordered=False)\\n\\n'"
      ]
     },
     "execution_count": 39,
     "metadata": {},
     "output_type": "execute_result"
    }
   ],
   "source": [
    "import pandas as pd\n",
    "import numpy as np\n",
    "\n",
    "\"\"\"\n",
    "\n",
    "# Create a Series from data (sequence, dictionary or scalar)\n",
    "\n",
    "pd.Series(  data=None, \n",
    "            index=None,\n",
    "            dtype=None,\n",
    "            name=None, \n",
    "            copy=False )\n",
    "\n",
    "\n",
    "# Access index of series\n",
    "s.index \n",
    "\n",
    "# Cast series to dtype. To ignore errors (and return original object) use errors='ignore'\n",
    "s.astype(dtype, errors=\"raise\")\n",
    "\n",
    "# Return values from s where boolean_array is True\n",
    "s[boolean_array]\n",
    "\n",
    "# Determine if a categorical series is ordered\n",
    "s.cat.ordered\n",
    "\n",
    "# Add categories (potentially ordered) to the series. new_categories must include all categories\n",
    "s.cat.reorder_categories(new_categories, ordered=False)\n",
    "\n",
    "\"\"\""
   ]
  },
  {
   "cell_type": "code",
   "execution_count": 2,
   "id": "6ea1e72d",
   "metadata": {},
   "outputs": [
    {
     "name": "stdout",
     "output_type": "stream",
     "text": [
      "145\n",
      "38\n",
      "0    145\n",
      "1    142\n",
      "2     38\n",
      "3     13\n",
      "Name: counts, dtype: int64\n",
      "Paul      145\n",
      "John      142\n",
      "George     38\n",
      "Ringo      13\n",
      "Name: counts, dtype: int64\n"
     ]
    }
   ],
   "source": [
    "songs = {\n",
    "    'index':['Paul', 'John', 'George', 'Ringo'],\n",
    "    'data':[145, 142, 38, 13],\n",
    "    'name':'counts'\n",
    "}\n",
    "\n",
    "def get (series, idx):\n",
    "    \"\"\" Take the dictionary and the index and return the value \"\"\"\n",
    "    value_idx = series['index'].index(idx)\n",
    "    return series['data'][value_idx]\n",
    "\n",
    "print(get(songs, 'Paul'))\n",
    "print(get(songs, 'George'))\n",
    "\n",
    "\"\"\" Creating a Series \"\"\"\n",
    "songs_2 = pd.Series([145, 142, 38, 13], name='counts')\n",
    "print(songs_2)\n",
    "\n",
    "\"\"\" Index Information \"\"\"\n",
    "songs_2.index\n",
    "\n",
    "\"\"\" Non-integer index \"\"\"\n",
    "songs_3 = pd.Series([145, 142, 38, 13],\n",
    "                    name='counts',\n",
    "                    index=['Paul', 'John', 'George', 'Ringo'])\n",
    "print(songs_3)"
   ]
  },
  {
   "cell_type": "markdown",
   "id": "fba0439b",
   "metadata": {},
   "source": [
    "### NaN's / Nulls / < NA >"
   ]
  },
  {
   "cell_type": "code",
   "execution_count": 7,
   "id": "231e27ad",
   "metadata": {},
   "outputs": [
    {
     "name": "stdout",
     "output_type": "stream",
     "text": [
      "A       2\n",
      "B    <NA>\n",
      "C       8\n",
      "dtype: Int64\n"
     ]
    }
   ],
   "source": [
    "\"\"\" Optional Integer Support for NaN \"\"\"\n",
    "nan_series = pd.Series([2, None, 8],\n",
    "                       index=['A', 'B', 'C'],\n",
    "                       dtype='Int64')\n",
    "\n",
    "print(nan_series)"
   ]
  },
  {
   "cell_type": "markdown",
   "id": "cfe90444",
   "metadata": {},
   "source": [
    "### Making a Mask"
   ]
  },
  {
   "cell_type": "code",
   "execution_count": 10,
   "id": "bce68a8f",
   "metadata": {},
   "outputs": [
    {
     "name": "stdout",
     "output_type": "stream",
     "text": [
      "Paul       True\n",
      "John       True\n",
      "George    False\n",
      "Ringo     False\n",
      "Name: counts, dtype: bool\n",
      "Paul    145\n",
      "John    142\n",
      "Name: counts, dtype: int64\n",
      "Paul    145\n",
      "John    142\n",
      "Name: counts, dtype: int64\n",
      "Paul      145\n",
      "John      142\n",
      "George     38\n",
      "Name: counts, dtype: int64\n"
     ]
    }
   ],
   "source": [
    "mask = songs_3 > songs_3.median() # Boolean Array\n",
    "print(mask)\n",
    "print(songs_3[mask])\n",
    "\n",
    "mask_2 = songs_3 > songs_3.mean()\n",
    "print(songs_3[mask_2])\n",
    "\n",
    "mask_3 = songs_3 > 30\n",
    "print(songs_3[mask_3])"
   ]
  },
  {
   "cell_type": "markdown",
   "id": "d7f93a7a",
   "metadata": {},
   "source": [
    "### Categories"
   ]
  },
  {
   "cell_type": "code",
   "execution_count": 37,
   "id": "262be477",
   "metadata": {},
   "outputs": [
    {
     "name": "stdout",
     "output_type": "stream",
     "text": [
      "0    xs\n",
      "1     s\n",
      "2     m\n",
      "3     l\n",
      "4    xl\n",
      "dtype: category\n",
      "Categories (5, object): ['l', 'm', 's', 'xl', 'xs']\n",
      "False\n",
      "\n",
      " ['m', 'xs', 'xl', 'l', 's']\n",
      "0    False\n",
      "1     True\n",
      "2    False\n",
      "3    False\n",
      "4     True\n",
      "dtype: bool\n",
      "1    xs\n",
      "4     s\n",
      "dtype: category\n",
      "Categories (5, object): ['xs' < 's' < 'm' < 'l' < 'xl']\n",
      "0     M\n",
      "1    XS\n",
      "2    XL\n",
      "3     L\n",
      "4     S\n",
      "dtype: object\n",
      "True\n"
     ]
    }
   ],
   "source": [
    "size = pd.Series(['xs', 's', 'm', 'l', 'xl'], dtype='category')\n",
    "print(size)\n",
    "\n",
    "print(size.cat.ordered)\n",
    "\n",
    "\"\"\" To convert a non-categorical series to an ordered category, create a type with CategoricalDtype\"\"\"\n",
    "s2 = pd.Series(['m', 'xs', 'xl', 'l', 's'])\n",
    "size_type = pd.api.types.CategoricalDtype(\n",
    "    categories=['xs', 's', 'm', 'l', 'xl'],\n",
    "    ordered=True)\n",
    "s3 = s2.astype(size_type)\n",
    "\n",
    "\n",
    "print(\"\\n\",[size for size in s3])\n",
    "\n",
    "mask = s3 < 'm'\n",
    "print(s3 < 'm')\n",
    "\n",
    "print(s3[mask])\n",
    "\n",
    "print(s3.str.upper())\n",
    "\n",
    "print(s3.cat.ordered)"
   ]
  },
  {
   "cell_type": "markdown",
   "id": "a83197d1",
   "metadata": {},
   "source": [
    "# Exercises\n",
    "\n",
    "1) Using Jupyter, create a series with the temperature values for the last seven days. Filter out the values below the mean\n",
    "\n",
    "2) Using Jupyter, create a series with your favourite machine learning model. Use categorical type."
   ]
  },
  {
   "cell_type": "code",
   "execution_count": 44,
   "id": "08a28d8d",
   "metadata": {},
   "outputs": [
    {
     "name": "stdout",
     "output_type": "stream",
     "text": [
      "Average Raise = 6.090909090909091\n",
      "Jerome    2.6\n",
      "Jane      2.7\n",
      "Bill      3.6\n",
      "Darcy     5.0\n",
      "Jon       2.7\n",
      "Watson    6.0\n",
      "Tessa     3.5\n",
      "dtype: float64\n"
     ]
    }
   ],
   "source": [
    "# TASK 1\n",
    "\n",
    "emp_percs = {\n",
    "    \"Jerome\":2.6,\n",
    "    \"Mary\":10.0,\n",
    "    \"Phill\":15,\n",
    "    \"Jane\": 2.7,\n",
    "    \"Bill\":3.6,\n",
    "    \"Darcy\":5,\n",
    "    \"Megan\":7.9,\n",
    "    \"Jon\":2.7,\n",
    "    \"Willis\":8,\n",
    "    \"Watson\":6,\n",
    "    \"Tessa\":3.5\n",
    "}\n",
    "\n",
    "s = pd.Series(emp_percs)\n",
    "\n",
    "below_average_raise = s < np.mean(s)\n",
    "print(\"Average Raise =\", np.mean(s))\n",
    "print(s[below_average_raise])"
   ]
  },
  {
   "cell_type": "code",
   "execution_count": 63,
   "id": "46537633",
   "metadata": {},
   "outputs": [
    {
     "name": "stdout",
     "output_type": "stream",
     "text": [
      "0                  BERT\n",
      "1                  LSTM\n",
      "2                   GRU\n",
      "3                   RNN\n",
      "4                   GNN\n",
      "5                 U-Net\n",
      "6    Vision Transformer\n",
      "7                   CNN\n",
      "dtype: category\n",
      "Categories (8, object): ['BERT', 'CNN', 'GNN', 'GRU', 'LSTM', 'RNN', 'U-Net', 'Vision Transformer']\n"
     ]
    },
    {
     "data": {
      "text/plain": [
       "0                  BERT\n",
       "1                  LSTM\n",
       "2                   GRU\n",
       "3                   RNN\n",
       "4                   GNN\n",
       "5                 U-Net\n",
       "6    Vision Transformer\n",
       "7                   CNN\n",
       "dtype: category\n",
       "Categories (8, object): ['CNN', 'Vision Transformer', 'U-Net', 'GNN', 'RNN', 'GRU', 'LSTM', 'BERT']"
      ]
     },
     "execution_count": 63,
     "metadata": {},
     "output_type": "execute_result"
    }
   ],
   "source": [
    "# TASK 2\n",
    "\n",
    "ml_models = [\"BERT\", \"LSTM\", \"GRU\", \"RNN\", \"GNN\", \"U-Net\", \"Vision Transformer\", \"CNN\"]\n",
    "\n",
    "s = pd.Series(ml_models, dtype='category')\n",
    "print(s)\n",
    "\n",
    "s.cat.reorder_categories([\"CNN\", \"Vision Transformer\", \"U-Net\", \"GNN\", \"RNN\", \"GRU\", \"LSTM\", \"BERT\"], ordered=False)"
   ]
  }
 ],
 "metadata": {
  "interpreter": {
   "hash": "ad2c47854f9e05930f1bc1b46bb6c75f172d94bc5f399f997be9e92386d6ddce"
  },
  "kernelspec": {
   "display_name": "Python 3.10.1 64-bit",
   "language": "python",
   "name": "python3"
  },
  "language_info": {
   "codemirror_mode": {
    "name": "ipython",
    "version": 3
   },
   "file_extension": ".py",
   "mimetype": "text/x-python",
   "name": "python",
   "nbconvert_exporter": "python",
   "pygments_lexer": "ipython3",
   "version": "3.10.1"
  }
 },
 "nbformat": 4,
 "nbformat_minor": 5
}
