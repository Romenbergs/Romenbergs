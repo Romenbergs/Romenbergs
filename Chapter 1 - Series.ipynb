{
 "cells": [
  {
   "cell_type": "markdown",
   "id": "2ac453b9",
   "metadata": {},
   "source": [
    "# Series Introduction"
   ]
  },
  {
   "cell_type": "code",
   "execution_count": 2,
   "id": "6ea1e72d",
   "metadata": {},
   "outputs": [
    {
     "name": "stdout",
     "output_type": "stream",
     "text": [
      "145\n",
      "38\n",
      "0    145\n",
      "1    142\n",
      "2     38\n",
      "3     13\n",
      "Name: counts, dtype: int64\n",
      "Paul      145\n",
      "John      142\n",
      "George     38\n",
      "Ringo      13\n",
      "Name: counts, dtype: int64\n"
     ]
    }
   ],
   "source": [
    "import pandas as pd\n",
    "\n",
    "songs = {\n",
    "    'index':['Paul', 'John', 'George', 'Ringo'],\n",
    "    'data':[145, 142, 38, 13],\n",
    "    'name':'counts'\n",
    "}\n",
    "\n",
    "def get (series, idx):\n",
    "    \"\"\" Take the dictionary and the index and return the value \"\"\"\n",
    "    value_idx = series['index'].index(idx)\n",
    "    return series['data'][value_idx]\n",
    "\n",
    "print(get(songs, 'Paul'))\n",
    "print(get(songs, 'George'))\n",
    "\n",
    "\"\"\" Creating a Series \"\"\"\n",
    "songs_2 = pd.Series([145, 142, 38, 13], name='counts')\n",
    "print(songs_2)\n",
    "\n",
    "\"\"\" Index Information \"\"\"\n",
    "songs_2.index\n",
    "\n",
    "\"\"\" Non-integer index \"\"\"\n",
    "songs_3 = pd.Series([145, 142, 38, 13],\n",
    "                    name='counts',\n",
    "                    index=['Paul', 'John', 'George', 'Ringo'])\n",
    "print(songs_3)"
   ]
  },
  {
   "cell_type": "markdown",
   "id": "fba0439b",
   "metadata": {},
   "source": [
    "### NaN's / Nulls / < NA >"
   ]
  },
  {
   "cell_type": "code",
   "execution_count": 7,
   "id": "231e27ad",
   "metadata": {},
   "outputs": [
    {
     "name": "stdout",
     "output_type": "stream",
     "text": [
      "A       2\n",
      "B    <NA>\n",
      "C       8\n",
      "dtype: Int64\n"
     ]
    }
   ],
   "source": [
    "\"\"\" Optional Integer Support for NaN \"\"\"\n",
    "nan_series = pd.Series([2, None, 8],\n",
    "                       index=['A', 'B', 'C'],\n",
    "                       dtype='Int64')\n",
    "\n",
    "print(nan_series)"
   ]
  },
  {
   "cell_type": "markdown",
   "id": "cfe90444",
   "metadata": {},
   "source": [
    "### Making a Mask"
   ]
  },
  {
   "cell_type": "code",
   "execution_count": 10,
   "id": "bce68a8f",
   "metadata": {},
   "outputs": [
    {
     "name": "stdout",
     "output_type": "stream",
     "text": [
      "Paul       True\n",
      "John       True\n",
      "George    False\n",
      "Ringo     False\n",
      "Name: counts, dtype: bool\n",
      "Paul    145\n",
      "John    142\n",
      "Name: counts, dtype: int64\n",
      "Paul    145\n",
      "John    142\n",
      "Name: counts, dtype: int64\n",
      "Paul      145\n",
      "John      142\n",
      "George     38\n",
      "Name: counts, dtype: int64\n"
     ]
    }
   ],
   "source": [
    "mask = songs_3 > songs_3.median() # Boolean Array\n",
    "print(mask)\n",
    "print(songs_3[mask])\n",
    "\n",
    "mask_2 = songs_3 > songs_3.mean()\n",
    "print(songs_3[mask_2])\n",
    "\n",
    "mask_3 = songs_3 > 30\n",
    "print(songs_3[mask_3])"
   ]
  },
  {
   "cell_type": "markdown",
   "id": "d7f93a7a",
   "metadata": {},
   "source": [
    "### Categories"
   ]
  },
  {
   "cell_type": "code",
   "execution_count": 13,
   "id": "262be477",
   "metadata": {},
   "outputs": [
    {
     "name": "stdout",
     "output_type": "stream",
     "text": [
      "0    xs\n",
      "1     s\n",
      "2     m\n",
      "3     l\n",
      "4    xl\n",
      "dtype: category\n",
      "Categories (5, object): ['l', 'm', 's', 'xl', 'xs']\n",
      "False\n",
      "\n",
      " ['m', 'xs', 'xl', 'l', 's']\n",
      "0    False\n",
      "1     True\n",
      "2    False\n",
      "3    False\n",
      "4     True\n",
      "dtype: bool\n",
      "1    xs\n",
      "4     s\n",
      "dtype: category\n",
      "Categories (5, object): ['xs' < 's' < 'm' < 'l' < 'xl']\n",
      "0     M\n",
      "1    XS\n",
      "2    XL\n",
      "3     L\n",
      "4     S\n",
      "dtype: object\n"
     ]
    }
   ],
   "source": [
    "size = pd.Series(['xs', 's', 'm', 'l', 'xl'], dtype='category')\n",
    "print(size)\n",
    "\n",
    "print(size.cat.ordered)\n",
    "\n",
    "\"\"\" To convert a non-categorical series to an ordered category, create a type with CategoricalDtype\"\"\"\n",
    "s2 = pd.Series(['m', 'xs', 'xl', 'l', 's'])\n",
    "size_type = pd.api.types.CategoricalDtype(\n",
    "    categories=['xs', 's', 'm', 'l', 'xl'],\n",
    "    ordered=True)\n",
    "s3 = s2.astype(size_type)\n",
    "\n",
    "\n",
    "print(\"\\n\",[size for size in s3])\n",
    "\n",
    "mask = s3 < 'm'\n",
    "print(s3 < 'm')\n",
    "\n",
    "print(s3[mask])\n",
    "\n",
    "print(s3.str.upper())"
   ]
  },
  {
   "cell_type": "code",
   "execution_count": null,
   "id": "a83197d1",
   "metadata": {},
   "outputs": [],
   "source": []
  }
 ],
 "metadata": {
  "kernelspec": {
   "display_name": "Python 3 (ipykernel)",
   "language": "python",
   "name": "python3"
  },
  "language_info": {
   "codemirror_mode": {
    "name": "ipython",
    "version": 3
   },
   "file_extension": ".py",
   "mimetype": "text/x-python",
   "name": "python",
   "nbconvert_exporter": "python",
   "pygments_lexer": "ipython3",
   "version": "3.9.7"
  }
 },
 "nbformat": 4,
 "nbformat_minor": 5
}
