{
 "cells": [
  {
   "cell_type": "markdown",
   "metadata": {},
   "source": [
    "# Series Deep Dive"
   ]
  },
  {
   "cell_type": "code",
   "execution_count": 1,
   "metadata": {},
   "outputs": [
    {
     "name": "stdout",
     "output_type": "stream",
     "text": [
      "0    19\n",
      "1     9\n",
      "2    23\n",
      "3    10\n",
      "4    17\n",
      "Name: city08, dtype: int64\n",
      "0    25\n",
      "1    14\n",
      "2    33\n",
      "3    12\n",
      "4    23\n",
      "Name: highway08, dtype: int64\n",
      "Number of Series attributes: 419\n"
     ]
    },
    {
     "name": "stderr",
     "output_type": "stream",
     "text": [
      "c:\\Users\\Jerome Christoforide\\AppData\\Local\\Programs\\Python\\Python310\\lib\\site-packages\\IPython\\core\\interactiveshell.py:3397: DtypeWarning: Columns (68,70,71,72,73,74,76,79) have mixed types.Specify dtype option on import or set low_memory=False.\n",
      "  exec(code_obj, self.user_global_ns, self.user_ns)\n"
     ]
    }
   ],
   "source": [
    "import pandas as pd\n",
    "\n",
    "url = 'https://github.com/mattharrison/datasets/raw/master/data/vehicles.csv.zip'\n",
    "\n",
    "df = pd.read_csv(url)\n",
    "\n",
    "city_mpg = df[\"city08\"]\n",
    "highway_mpg = df[\"highway08\"]\n",
    "\n",
    "print(city_mpg.head())\n",
    "print(highway_mpg.head())\n",
    "\n",
    "\n",
    "print(\"Number of Series attributes:\", len(dir(city_mpg)))"
   ]
  },
  {
   "cell_type": "markdown",
   "metadata": {},
   "source": [
    "\n",
    "**Dunder methods** (.__add__, .__iter__, etc.) provide many numeric operations, looping, attribute access, and index access. For the numerice operations, these return Series. \n",
    "\n",
    "**Operator methods** - corresponding methods for many of the numeric operations allow us to tweak the behaviour (there is an .add method in addition to .__add__).\n",
    "\n",
    "**Aggregation methods** and properties which reduce or aggregate the values in a series down to a single scalar value. the .mean, .max, and .sum methods and .is_monotonic property are all examples.\n",
    "\n",
    "**Conversion methods**. Some of these start with .to_ and export the data to other formats.\n",
    "\n",
    "**Manipulation methods** such as .sort_values, .drop_duplicates, that return Series objects with the same index.\n",
    "\n",
    "**Indexing and accessor methods** and attributes such as .loc and .iloc. These return series or scalars\n",
    "\n",
    "**String manipulation methods** using .str.\n",
    "\n",
    "**Date manipulation methods** using .dt.\n",
    "\n",
    "**Plotting methods** using .plot.\n",
    "\n",
    "**Categorical manipulation methods** using .cat.\n",
    "\n",
    "**Transformation methods** such as .unstack and .reset_index, .agg, .transform.\n",
    "\n",
    "**Attributes** such as .index and .dtype.\n"
   ]
  },
  {
   "cell_type": "markdown",
   "metadata": {},
   "source": [
    "# Operators (& Dunder Methods)"
   ]
  },
  {
   "cell_type": "code",
   "execution_count": 2,
   "metadata": {},
   "outputs": [
    {
     "name": "stdout",
     "output_type": "stream",
     "text": [
      "0    22.0\n",
      "1    11.5\n",
      "2    28.0\n",
      "3    11.0\n",
      "4    20.0\n",
      "dtype: float64\n",
      "1     NaN\n",
      "2    55.0\n",
      "2    24.0\n",
      "2    65.0\n",
      "2    34.0\n",
      "4     NaN\n",
      "dtype: float64\n"
     ]
    }
   ],
   "source": [
    "average_mpg = (city_mpg + highway_mpg) / 2\n",
    "print(average_mpg.head())\n",
    "\n",
    "# index alignment - make sure indices are unique and common to both sides when performing operations that compare/combine.\n",
    "# Example of non-aligning indices\n",
    "s1 = pd.Series([10, 20, 30], index=[1, 2, 2])\n",
    "s2 = pd.Series([35, 4, 53], index=[2, 2, 4], name='s2')\n",
    "\n",
    "print(s1 + s2)"
   ]
  },
  {
   "cell_type": "markdown",
   "metadata": {},
   "source": [
    "### Broadcasting\n",
    "\n",
    "When you peform math operations with a scalar, pandas *broadcasts* the operation to all values. In the above case, the values are added together. This makes it easy to write mathematical operations. It also makes the code easy to read.\n",
    "With many math operations, these are optimized and happen very quickly in the CPU. This is called *vectorization*. (A numeric pandas series is a block of memory, and modern CPUs leverage a technology called Single Instruction / Multiple Data (SIMD) to apply a math operation to the block of memory.)"
   ]
  },
  {
   "cell_type": "code",
   "execution_count": 3,
   "metadata": {},
   "outputs": [
    {
     "name": "stdout",
     "output_type": "stream",
     "text": [
      "1    10.0\n",
      "2    55.0\n",
      "2    24.0\n",
      "2    65.0\n",
      "2    34.0\n",
      "4    53.0\n",
      "dtype: float64\n",
      "0        22.0\n",
      "1        11.5\n",
      "2        28.0\n",
      "3        11.0\n",
      "4        20.0\n",
      "         ... \n",
      "41139    22.5\n",
      "41140    24.0\n",
      "41141    21.0\n",
      "41142    21.0\n",
      "41143    18.5\n",
      "Length: 41144, dtype: float64\n"
     ]
    }
   ],
   "source": [
    "# To overcome the NaNs - fill_value=0\n",
    "print(s1.add(s2, fill_value=0))\n",
    "\n",
    "# Chaining to calculate average mpg\n",
    "print(city_mpg\n",
    "        .add(highway_mpg)\n",
    "        .div(2))"
   ]
  },
  {
   "cell_type": "code",
   "execution_count": 4,
   "metadata": {},
   "outputs": [
    {
     "data": {
      "text/plain": [
       "'\\n**Method**              **Operator**            **Description**\\ns.add(s2)               s + s2                  Adds series\\ns.radd(s2)              s2 + s                  \\n\\ns.sub(s2)               s - s2                  Subtracts series\\ns.rsub(s2)              s2 - s                  \\n\\ns.mul(s2)               s * s2                  Multiply series\\ns.rmul(s2)              s2 * s                  \\n\\ns.div(s2)               s / s2                  Divide series\\ns.rdiv(s2)              s2 / s                  \\n\\ns.mod(s2)               s % s2                  Modulo of series division\\ns.rmod(s2)              s2 % s    \\n\\ns.floordiv(s2)          s // s2                 Floor divides series\\ns.rfloordiv(s2)         s2 // s  \\n\\ns.pow(s2)               s ** s2                 Exponential power of series\\n\\ns.eq(s2)                s2 == s                 Elementwise equals of series\\n\\ns.ne(s2)                s2 != s                 Elementwise not equals of series\\n\\ns.gt(s2)                s > s2                  Elementwise greater than\\n\\ns.ge(s2)                s >= s2                 Elementwise greater than or equal to\\n\\ns.lt(s2)                s < s2                  Elementwise less than\\n\\ns.le(s2)                s <= s2                 Elementwise less than or equal to\\n\\nnp.invert(s)            ~s                      Elementwise inversion of boolean series\\n\\nnp.logical_and(s, s2)   s & s2                  Elementwise logical and of boolean series\\n\\nnp.logical_or(s, s2)    s | s2                  Elementwise logical or of boolean series\\n\\n'"
      ]
     },
     "execution_count": 4,
     "metadata": {},
     "output_type": "execute_result"
    }
   ],
   "source": [
    "\"\"\"\n",
    "**Method**              **Operator**            **Description**\n",
    "s.add(s2)               s + s2                  Adds series\n",
    "s.radd(s2)              s2 + s                  \n",
    "\n",
    "s.sub(s2)               s - s2                  Subtracts series\n",
    "s.rsub(s2)              s2 - s                  \n",
    "\n",
    "s.mul(s2)               s * s2                  Multiply series\n",
    "s.rmul(s2)              s2 * s                  \n",
    "\n",
    "s.div(s2)               s / s2                  Divide series\n",
    "s.rdiv(s2)              s2 / s                  \n",
    "\n",
    "s.mod(s2)               s % s2                  Modulo of series division\n",
    "s.rmod(s2)              s2 % s    \n",
    "\n",
    "s.floordiv(s2)          s // s2                 Floor divides series\n",
    "s.rfloordiv(s2)         s2 // s  \n",
    "\n",
    "s.pow(s2)               s ** s2                 Exponential power of series\n",
    "\n",
    "s.eq(s2)                s2 == s                 Elementwise equals of series\n",
    "\n",
    "s.ne(s2)                s2 != s                 Elementwise not equals of series\n",
    "\n",
    "s.gt(s2)                s > s2                  Elementwise greater than\n",
    "\n",
    "s.ge(s2)                s >= s2                 Elementwise greater than or equal to\n",
    "\n",
    "s.lt(s2)                s < s2                  Elementwise less than\n",
    "\n",
    "s.le(s2)                s <= s2                 Elementwise less than or equal to\n",
    "\n",
    "np.invert(s)            ~s                      Elementwise inversion of boolean series\n",
    "\n",
    "np.logical_and(s, s2)   s & s2                  Elementwise logical and of boolean series\n",
    "\n",
    "np.logical_or(s, s2)    s | s2                  Elementwise logical or of boolean series\n",
    "\n",
    "\"\"\""
   ]
  },
  {
   "cell_type": "markdown",
   "metadata": {},
   "source": [
    "### Exercise - Operators & Dunder Methods\n",
    "\n",
    "1) Add a numeric series to itself\n",
    "2) Add 10 to a numeric series\n",
    "3) Add a numeric series to itself using the .add method\n",
    "4) Read the documentation for the .add method"
   ]
  },
  {
   "cell_type": "code",
   "execution_count": 5,
   "metadata": {},
   "outputs": [
    {
     "name": "stdout",
     "output_type": "stream",
     "text": [
      "0    20\n",
      "1    23\n",
      "2    28\n",
      "3    31\n",
      "4    27\n",
      "5    34\n",
      "6    33\n",
      "dtype: int64\n",
      "0    20\n",
      "1    21\n",
      "2    27\n",
      "3    28\n",
      "4    25\n",
      "5    31\n",
      "6    33\n",
      "dtype: int64\n",
      "0    30\n",
      "1    33\n",
      "2    38\n",
      "3    41\n",
      "4    37\n",
      "5    44\n",
      "6    43\n",
      "dtype: int64\n"
     ]
    }
   ],
   "source": [
    "UK_temps = [10, 11, 17, 18, 15, 21, 23]\n",
    "\n",
    "s = pd.Series(UK_temps)\n",
    "\n",
    "# 1)\n",
    "heatwave = [10, 12, 11, 13, 12, 13, 10]\n",
    "s2 = pd.Series(heatwave)\n",
    "print(s + s2)\n",
    "\n",
    "# 2)\n",
    "print(s + 10)\n",
    "\n",
    "# 3)\n",
    "print(s.add(s2).add(10))"
   ]
  },
  {
   "cell_type": "markdown",
   "metadata": {},
   "source": [
    "# Aggregate Methods"
   ]
  },
  {
   "cell_type": "code",
   "execution_count": 31,
   "metadata": {},
   "outputs": [
    {
     "name": "stdout",
     "output_type": "stream",
     "text": [
      "City mpg mean: 18.369045304297103\n",
      "Highway mpg mean: 24.504666537040638\n",
      "False\n",
      "False\n",
      "90th percentile: 24.0\n",
      "80th percentile: 21.0\n",
      "70th percentile: 20.0\n",
      "50th percentile: 17.0\n",
      "40th percentile: 16.0\n",
      "10th, 20th, 30th percentiles: 0.1    13.0\n",
      "0.2    14.0\n",
      "0.3    15.0\n",
      "Name: city08, dtype: float64\n",
      "total cars with city_mpg greater than 20: 10272\n",
      "percentage of cars with city_mpg greater than 20: 0.24965973167412017\n"
     ]
    }
   ],
   "source": [
    "print(\"City mpg mean:\",city_mpg.mean())\n",
    "print(\"Highway mpg mean:\", highway_mpg.mean())\n",
    "\n",
    "print(city_mpg.is_unique)\n",
    "print(city_mpg.is_monotonic_increasing)\n",
    "\n",
    "print(\"90th percentile:\", city_mpg.quantile(0.9))\n",
    "print(\"80th percentile:\", city_mpg.quantile(0.8))\n",
    "print(\"70th percentile:\", city_mpg.quantile(0.7))\n",
    "print(\"50th percentile:\", city_mpg.quantile())\n",
    "print(\"40th percentile:\", city_mpg.quantile(0.4))\n",
    "\n",
    "print(\"10th, 20th, 30th percentiles:\", city_mpg.quantile([0.1, 0.2, 0.3]))"
   ]
  },
  {
   "cell_type": "code",
   "execution_count": 36,
   "metadata": {},
   "outputs": [
    {
     "name": "stdout",
     "output_type": "stream",
     "text": [
      "total cars with city_mpg greater than 20: 10272\n",
      "percentage of cars with city_mpg greater than 20: 0.24965973167412017\n",
      "24.97\n"
     ]
    }
   ],
   "source": [
    "print(\"total cars with city_mpg greater than 20:\", city_mpg.gt(20).sum())\n",
    "\n",
    "print(\"percentage of cars with city_mpg greater than 20:\", city_mpg.gt(20).mean())\n",
    "\n",
    "\"\"\" Gives the actual percentage instead of decimal.\"\"\"\n",
    "print(city_mpg.gt(20).mul(100).mean().round(2))"
   ]
  },
  {
   "cell_type": "code",
   "execution_count": 39,
   "metadata": {},
   "outputs": [
    {
     "name": "stdout",
     "output_type": "stream",
     "text": [
      "mean               18.369045\n",
      "var                62.503036\n",
      "max               150.000000\n",
      "second_to_last     18.000000\n",
      "Name: city08, dtype: float64\n"
     ]
    }
   ],
   "source": [
    "\"\"\" .agg shines in the ability to perform multiple aggregations.\"\"\"\n",
    "import numpy as np\n",
    "def second_to_last(s):\n",
    "    return s.iloc[-2]\n",
    "\n",
    "print(city_mpg.agg(['mean', np.var, max, second_to_last]))"
   ]
  },
  {
   "cell_type": "markdown",
   "metadata": {},
   "source": [
    "### Exercises\n",
    "\n",
    "1) Find the count of non-missing values of a series\n",
    "2) Find the number of entries of a series\n",
    "3) Find the number of unique entries of a series\n",
    "4) Find the mean values of a series\n",
    "5) Find the maximum value of a series\n",
    "6) Use the .agg method to find all of the above"
   ]
  },
  {
   "cell_type": "code",
   "execution_count": 68,
   "metadata": {},
   "outputs": [
    {
     "name": "stdout",
     "output_type": "stream",
     "text": [
      "9\n",
      "10\n",
      "8\n",
      "20.022222222222222\n",
      "23.2\n",
      "count       9.000000\n",
      "size       10.000000\n",
      "nunique     8.000000\n",
      "mean       20.022222\n",
      "max        23.200000\n",
      "dtype: float64\n"
     ]
    }
   ],
   "source": [
    "times = [18.5, 21.2, 17, 23.2, 18.7, 19.9, 20, 20, 21.7, np.nan]\n",
    "s = pd.Series(times)\n",
    "\n",
    "\"\"\" count of non-missing items in series \"\"\"\n",
    "print(s.count(level=None))\n",
    "\n",
    "\"\"\" number of entries in a series \"\"\"\n",
    "print(s.size)\n",
    "\n",
    "\"\"\" returns number of unique items in series, NaN's dropped \"\"\"\n",
    "print(s.nunique(dropna=True))\n",
    "\n",
    "\"\"\" return the mean value in series \"\"\"\n",
    "print(s.mean())\n",
    "\n",
    "\"\"\" return the maximum value in series \"\"\"\n",
    "print(s.max())\n",
    "\n",
    "\"\"\" combining all above into one aggregation list \"\"\"\n",
    "print(s.agg(['count', 'size', 'nunique', 'mean', 'max']))\n"
   ]
  },
  {
   "cell_type": "markdown",
   "metadata": {},
   "source": [
    "# Conversion Methods"
   ]
  }
 ],
 "metadata": {
  "interpreter": {
   "hash": "ad2c47854f9e05930f1bc1b46bb6c75f172d94bc5f399f997be9e92386d6ddce"
  },
  "kernelspec": {
   "display_name": "Python 3.10.1 64-bit",
   "language": "python",
   "name": "python3"
  },
  "language_info": {
   "codemirror_mode": {
    "name": "ipython",
    "version": 3
   },
   "file_extension": ".py",
   "mimetype": "text/x-python",
   "name": "python",
   "nbconvert_exporter": "python",
   "pygments_lexer": "ipython3",
   "version": "3.10.1"
  },
  "orig_nbformat": 4
 },
 "nbformat": 4,
 "nbformat_minor": 2
}
