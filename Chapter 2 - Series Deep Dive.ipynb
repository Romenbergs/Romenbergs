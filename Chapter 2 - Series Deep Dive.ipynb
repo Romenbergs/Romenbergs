{
 "cells": [
  {
   "cell_type": "markdown",
   "metadata": {},
   "source": [
    "# Series Deep Dive"
   ]
  },
  {
   "cell_type": "code",
   "execution_count": 9,
   "metadata": {},
   "outputs": [
    {
     "name": "stdout",
     "output_type": "stream",
     "text": [
      "0    19\n",
      "1     9\n",
      "2    23\n",
      "3    10\n",
      "4    17\n",
      "Name: city08, dtype: int64\n",
      "0    25\n",
      "1    14\n",
      "2    33\n",
      "3    12\n",
      "4    23\n",
      "Name: highway08, dtype: int64\n",
      "Number of Series attributes: 419\n"
     ]
    }
   ],
   "source": [
    "import pandas as pd\n",
    "\n",
    "url = 'https://github.com/mattharrison/datasets/raw/master/data/vehicles.csv.zip'\n",
    "\n",
    "df = pd.read_csv(url)\n",
    "\n",
    "city_mpg = df[\"city08\"]\n",
    "highway_mpg = df[\"highway08\"]\n",
    "\n",
    "print(city_mpg.head())\n",
    "print(highway_mpg.head())\n",
    "\n",
    "\n",
    "print(\"Number of Series attributes:\", len(dir(city_mpg)))"
   ]
  },
  {
   "cell_type": "markdown",
   "metadata": {},
   "source": [
    "\n",
    "**Dunder methods** (.__add__, .__iter__, etc.) provide many numeric operations, looping, attribute access, and index access. For the numerice operations, these return Series. \n",
    "\n",
    "**Operator methods** - corresponding methods for many of the numeric operations allow us to tweak the behaviour (there is an .add method in addition to .__add__).\n",
    "\n",
    "**Aggregation methods** and properties which reduce or aggregate the values in a series down to a single scalar value. the .mean, .max, and .sum methods and .is_monotonic property are all examples.\n",
    "\n",
    "**Conversion methods**. Some of these start with .to_ and export the data to other formats.\n",
    "\n",
    "**Manipulation methods** such as .sort_values, .drop_duplicates, that return Series objects with the same index.\n",
    "\n",
    "**Indexing and accessor methods** and attributes such as .loc and .iloc. These return series or scalars\n",
    "\n",
    "**String manipulation methods** using .str.\n",
    "\n",
    "**Date manipulation methods** using .dt.\n",
    "\n",
    "**Plotting methods** using .plot.\n",
    "\n",
    "**Categorical manipulation methods** using .cat.\n",
    "\n",
    "**Transformation methods** such as .unstack and .reset_index, .agg, .transform.\n",
    "\n",
    "**Attributes** such as .index and .dtype.\n"
   ]
  },
  {
   "cell_type": "markdown",
   "metadata": {},
   "source": [
    "# Operators (& Dunder Methods)"
   ]
  },
  {
   "cell_type": "code",
   "execution_count": 16,
   "metadata": {},
   "outputs": [
    {
     "name": "stdout",
     "output_type": "stream",
     "text": [
      "0    22.0\n",
      "1    11.5\n",
      "2    28.0\n",
      "3    11.0\n",
      "4    20.0\n",
      "dtype: float64\n",
      "1     NaN\n",
      "2    55.0\n",
      "2    24.0\n",
      "2    65.0\n",
      "2    34.0\n",
      "4     NaN\n",
      "dtype: float64\n"
     ]
    }
   ],
   "source": [
    "average_mpg = (city_mpg + highway_mpg) / 2\n",
    "print(average_mpg.head())\n",
    "\n",
    "# index alignment - make sure indices are unique and common to both sides when performing operations that compare/combine.\n",
    "# Example of non-aligning indices\n",
    "s1 = pd.Series([10, 20, 30], index=[1, 2, 2])\n",
    "s2 = pd.Series([35, 4, 53], index=[2, 2, 4], name='s2')\n",
    "\n",
    "print(s1 + s2)"
   ]
  },
  {
   "cell_type": "markdown",
   "metadata": {},
   "source": [
    "### Broadcasting\n",
    "\n",
    "When you peform math operations with a scalar, pandas *broadcasts* the operation to all values. In the above case, the values are added together. This makes it easy to write mathematical operations. It also makes the code easy to read.\n",
    "With many math operations, these are optimized and happen very quickly in the CPU. This is called *vectorization*. (A numeric pandas series is a block of memory, and modern CPUs leverage a technology called Single Instruction / Multiple Data (SIMD) to apply a math operation to the block of memory.)"
   ]
  },
  {
   "cell_type": "code",
   "execution_count": 19,
   "metadata": {},
   "outputs": [
    {
     "name": "stdout",
     "output_type": "stream",
     "text": [
      "1    10.0\n",
      "2    55.0\n",
      "2    24.0\n",
      "2    65.0\n",
      "2    34.0\n",
      "4    53.0\n",
      "dtype: float64\n",
      "0        22.0\n",
      "1        11.5\n",
      "2        28.0\n",
      "3        11.0\n",
      "4        20.0\n",
      "         ... \n",
      "41139    22.5\n",
      "41140    24.0\n",
      "41141    21.0\n",
      "41142    21.0\n",
      "41143    18.5\n",
      "Length: 41144, dtype: float64\n"
     ]
    }
   ],
   "source": [
    "# To overcome the NaNs - fill_value=0\n",
    "print(s1.add(s2, fill_value=0))\n",
    "\n",
    "# Chaining to calculate average mpg\n",
    "print(city_mpg\n",
    "        .add(highway_mpg)\n",
    "        .div(2))"
   ]
  },
  {
   "cell_type": "code",
   "execution_count": 21,
   "metadata": {},
   "outputs": [
    {
     "data": {
      "text/plain": [
       "'\\n**Method**              **Operator**            **Description**\\ns.add(s2)               s + s2                  Adds series\\ns.radd(s2)              s2 + s                  \\n\\ns.sub(s2)               s - s2                  Subtracts series\\ns.rsub(s2)              s2 - s                  \\n\\ns.mul(s2)               s * s2                  Multiply series\\ns.rmul(s2)              s2 * s                  \\n\\ns.div(s2)               s / s2                  Divide series\\ns.rdiv(s2)              s2 / s                  \\n\\ns.mod(s2)               s % s2                  Modulo of series division\\ns.rmod(s2)              s2 % s    \\n\\ns.floordiv(s2)          s // s2                 Floor divides series\\ns.rfloordiv(s2)         s2 // s  \\n\\ns.pow(s2)               s ** s2                 Exponential power of series\\n\\ns.eq(s2)                s2 == s                 Elementwise equals of series\\n\\ns.ne(s2)                s2 != s                 Elementwise not equals of series\\n\\ns.gt(s2)                s > s2                  Elementwise greater than\\n\\ns.ge(s2)                s >= s2                 Elementwise greater than or equal to\\n\\ns.lt(s2)                s < s2                  Elementwise less than\\n\\ns.le(s2)                s <= s2                 Elementwise less than or equal to\\n\\nnp.invert(s)            ~s                      Elementwise inversion of boolean series\\n\\nnp.logical_and(s, s2)   s & s2                  Elementwise logical and of boolean series\\n\\nnp.logical_or(s, s2)    s | s2                  Elementwise logical or of boolean series\\n\\n'"
      ]
     },
     "execution_count": 21,
     "metadata": {},
     "output_type": "execute_result"
    }
   ],
   "source": [
    "\"\"\"\n",
    "**Method**              **Operator**            **Description**\n",
    "s.add(s2)               s + s2                  Adds series\n",
    "s.radd(s2)              s2 + s                  \n",
    "\n",
    "s.sub(s2)               s - s2                  Subtracts series\n",
    "s.rsub(s2)              s2 - s                  \n",
    "\n",
    "s.mul(s2)               s * s2                  Multiply series\n",
    "s.rmul(s2)              s2 * s                  \n",
    "\n",
    "s.div(s2)               s / s2                  Divide series\n",
    "s.rdiv(s2)              s2 / s                  \n",
    "\n",
    "s.mod(s2)               s % s2                  Modulo of series division\n",
    "s.rmod(s2)              s2 % s    \n",
    "\n",
    "s.floordiv(s2)          s // s2                 Floor divides series\n",
    "s.rfloordiv(s2)         s2 // s  \n",
    "\n",
    "s.pow(s2)               s ** s2                 Exponential power of series\n",
    "\n",
    "s.eq(s2)                s2 == s                 Elementwise equals of series\n",
    "\n",
    "s.ne(s2)                s2 != s                 Elementwise not equals of series\n",
    "\n",
    "s.gt(s2)                s > s2                  Elementwise greater than\n",
    "\n",
    "s.ge(s2)                s >= s2                 Elementwise greater than or equal to\n",
    "\n",
    "s.lt(s2)                s < s2                  Elementwise less than\n",
    "\n",
    "s.le(s2)                s <= s2                 Elementwise less than or equal to\n",
    "\n",
    "np.invert(s)            ~s                      Elementwise inversion of boolean series\n",
    "\n",
    "np.logical_and(s, s2)   s & s2                  Elementwise logical and of boolean series\n",
    "\n",
    "np.logical_or(s, s2)    s | s2                  Elementwise logical or of boolean series\n",
    "\n",
    "\"\"\""
   ]
  },
  {
   "cell_type": "markdown",
   "metadata": {},
   "source": [
    "### Exercise - Operators & Dunder Methods\n",
    "\n",
    "1) Add a numeric series to itself\n",
    "2) Add 10 to a numeric series\n",
    "3) Add a numeric series to itself using the .add method\n",
    "4) Read the documentation for the .add method"
   ]
  },
  {
   "cell_type": "code",
   "execution_count": 26,
   "metadata": {},
   "outputs": [
    {
     "name": "stdout",
     "output_type": "stream",
     "text": [
      "0    20\n",
      "1    23\n",
      "2    28\n",
      "3    31\n",
      "4    27\n",
      "5    34\n",
      "6    33\n",
      "dtype: int64\n",
      "0    20\n",
      "1    21\n",
      "2    27\n",
      "3    28\n",
      "4    25\n",
      "5    31\n",
      "6    33\n",
      "dtype: int64\n",
      "0    30\n",
      "1    33\n",
      "2    38\n",
      "3    41\n",
      "4    37\n",
      "5    44\n",
      "6    43\n",
      "dtype: int64\n"
     ]
    }
   ],
   "source": [
    "UK_temps = [10, 11, 17, 18, 15, 21, 23]\n",
    "\n",
    "s = pd.Series(UK_temps)\n",
    "\n",
    "# 1)\n",
    "heatwave = [10, 12, 11, 13, 12, 13, 10]\n",
    "s2 = pd.Series(heatwave)\n",
    "print(s + s2)\n",
    "\n",
    "# 2)\n",
    "print(s + 10)\n",
    "\n",
    "# 3)\n",
    "print(s.add(s2).add(10))"
   ]
  },
  {
   "cell_type": "markdown",
   "metadata": {},
   "source": [
    "# Aggregate Methods"
   ]
  },
  {
   "cell_type": "code",
   "execution_count": null,
   "metadata": {},
   "outputs": [],
   "source": []
  }
 ],
 "metadata": {
  "interpreter": {
   "hash": "ad2c47854f9e05930f1bc1b46bb6c75f172d94bc5f399f997be9e92386d6ddce"
  },
  "kernelspec": {
   "display_name": "Python 3.10.1 64-bit",
   "language": "python",
   "name": "python3"
  },
  "language_info": {
   "codemirror_mode": {
    "name": "ipython",
    "version": 3
   },
   "file_extension": ".py",
   "mimetype": "text/x-python",
   "name": "python",
   "nbconvert_exporter": "python",
   "pygments_lexer": "ipython3",
   "version": "3.10.1"
  },
  "orig_nbformat": 4
 },
 "nbformat": 4,
 "nbformat_minor": 2
}
